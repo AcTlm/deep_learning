{
  "nbformat": 4,
  "nbformat_minor": 0,
  "metadata": {
    "colab": {
      "provenance": [],
      "authorship_tag": "ABX9TyPridZYlcZATSnkKe42OWiK",
      "include_colab_link": true
    },
    "kernelspec": {
      "name": "python3",
      "display_name": "Python 3"
    },
    "language_info": {
      "name": "python"
    },
    "widgets": {
      "application/vnd.jupyter.widget-state+json": {
        "c71a6f01a4f54ad384f8b80c0d3076de": {
          "model_module": "@jupyter-widgets/controls",
          "model_name": "HBoxModel",
          "model_module_version": "1.5.0",
          "state": {
            "_dom_classes": [],
            "_model_module": "@jupyter-widgets/controls",
            "_model_module_version": "1.5.0",
            "_model_name": "HBoxModel",
            "_view_count": null,
            "_view_module": "@jupyter-widgets/controls",
            "_view_module_version": "1.5.0",
            "_view_name": "HBoxView",
            "box_style": "",
            "children": [
              "IPY_MODEL_164dfa1d4bc447aa8453cf97fab0505f",
              "IPY_MODEL_3109ce01fa44429ea9364985512ec616",
              "IPY_MODEL_60fdcb92c84e4dfe96ee2aca18af5893"
            ],
            "layout": "IPY_MODEL_ad48d9aab74d4d349a6c884bea052bbe"
          }
        },
        "164dfa1d4bc447aa8453cf97fab0505f": {
          "model_module": "@jupyter-widgets/controls",
          "model_name": "HTMLModel",
          "model_module_version": "1.5.0",
          "state": {
            "_dom_classes": [],
            "_model_module": "@jupyter-widgets/controls",
            "_model_module_version": "1.5.0",
            "_model_name": "HTMLModel",
            "_view_count": null,
            "_view_module": "@jupyter-widgets/controls",
            "_view_module_version": "1.5.0",
            "_view_name": "HTMLView",
            "description": "",
            "description_tooltip": null,
            "layout": "IPY_MODEL_e592fbad60c24cde924711c783d5c7b3",
            "placeholder": "​",
            "style": "IPY_MODEL_10af0595f5c84753877a5c19e8e2b6e8",
            "value": "100%"
          }
        },
        "3109ce01fa44429ea9364985512ec616": {
          "model_module": "@jupyter-widgets/controls",
          "model_name": "FloatProgressModel",
          "model_module_version": "1.5.0",
          "state": {
            "_dom_classes": [],
            "_model_module": "@jupyter-widgets/controls",
            "_model_module_version": "1.5.0",
            "_model_name": "FloatProgressModel",
            "_view_count": null,
            "_view_module": "@jupyter-widgets/controls",
            "_view_module_version": "1.5.0",
            "_view_name": "ProgressView",
            "bar_style": "success",
            "description": "",
            "description_tooltip": null,
            "layout": "IPY_MODEL_65bc924741b74ab4b832391f4e19a70c",
            "max": 9912422,
            "min": 0,
            "orientation": "horizontal",
            "style": "IPY_MODEL_5c23b3a4ffc44d81a58635db1a4ddede",
            "value": 9912422
          }
        },
        "60fdcb92c84e4dfe96ee2aca18af5893": {
          "model_module": "@jupyter-widgets/controls",
          "model_name": "HTMLModel",
          "model_module_version": "1.5.0",
          "state": {
            "_dom_classes": [],
            "_model_module": "@jupyter-widgets/controls",
            "_model_module_version": "1.5.0",
            "_model_name": "HTMLModel",
            "_view_count": null,
            "_view_module": "@jupyter-widgets/controls",
            "_view_module_version": "1.5.0",
            "_view_name": "HTMLView",
            "description": "",
            "description_tooltip": null,
            "layout": "IPY_MODEL_57750d0b47fe4ae0a3be1758d192c5b6",
            "placeholder": "​",
            "style": "IPY_MODEL_ca63ee76f48f4a9d97508b110eb6676f",
            "value": " 9912422/9912422 [00:00&lt;00:00, 14001036.81it/s]"
          }
        },
        "ad48d9aab74d4d349a6c884bea052bbe": {
          "model_module": "@jupyter-widgets/base",
          "model_name": "LayoutModel",
          "model_module_version": "1.2.0",
          "state": {
            "_model_module": "@jupyter-widgets/base",
            "_model_module_version": "1.2.0",
            "_model_name": "LayoutModel",
            "_view_count": null,
            "_view_module": "@jupyter-widgets/base",
            "_view_module_version": "1.2.0",
            "_view_name": "LayoutView",
            "align_content": null,
            "align_items": null,
            "align_self": null,
            "border": null,
            "bottom": null,
            "display": null,
            "flex": null,
            "flex_flow": null,
            "grid_area": null,
            "grid_auto_columns": null,
            "grid_auto_flow": null,
            "grid_auto_rows": null,
            "grid_column": null,
            "grid_gap": null,
            "grid_row": null,
            "grid_template_areas": null,
            "grid_template_columns": null,
            "grid_template_rows": null,
            "height": null,
            "justify_content": null,
            "justify_items": null,
            "left": null,
            "margin": null,
            "max_height": null,
            "max_width": null,
            "min_height": null,
            "min_width": null,
            "object_fit": null,
            "object_position": null,
            "order": null,
            "overflow": null,
            "overflow_x": null,
            "overflow_y": null,
            "padding": null,
            "right": null,
            "top": null,
            "visibility": null,
            "width": null
          }
        },
        "e592fbad60c24cde924711c783d5c7b3": {
          "model_module": "@jupyter-widgets/base",
          "model_name": "LayoutModel",
          "model_module_version": "1.2.0",
          "state": {
            "_model_module": "@jupyter-widgets/base",
            "_model_module_version": "1.2.0",
            "_model_name": "LayoutModel",
            "_view_count": null,
            "_view_module": "@jupyter-widgets/base",
            "_view_module_version": "1.2.0",
            "_view_name": "LayoutView",
            "align_content": null,
            "align_items": null,
            "align_self": null,
            "border": null,
            "bottom": null,
            "display": null,
            "flex": null,
            "flex_flow": null,
            "grid_area": null,
            "grid_auto_columns": null,
            "grid_auto_flow": null,
            "grid_auto_rows": null,
            "grid_column": null,
            "grid_gap": null,
            "grid_row": null,
            "grid_template_areas": null,
            "grid_template_columns": null,
            "grid_template_rows": null,
            "height": null,
            "justify_content": null,
            "justify_items": null,
            "left": null,
            "margin": null,
            "max_height": null,
            "max_width": null,
            "min_height": null,
            "min_width": null,
            "object_fit": null,
            "object_position": null,
            "order": null,
            "overflow": null,
            "overflow_x": null,
            "overflow_y": null,
            "padding": null,
            "right": null,
            "top": null,
            "visibility": null,
            "width": null
          }
        },
        "10af0595f5c84753877a5c19e8e2b6e8": {
          "model_module": "@jupyter-widgets/controls",
          "model_name": "DescriptionStyleModel",
          "model_module_version": "1.5.0",
          "state": {
            "_model_module": "@jupyter-widgets/controls",
            "_model_module_version": "1.5.0",
            "_model_name": "DescriptionStyleModel",
            "_view_count": null,
            "_view_module": "@jupyter-widgets/base",
            "_view_module_version": "1.2.0",
            "_view_name": "StyleView",
            "description_width": ""
          }
        },
        "65bc924741b74ab4b832391f4e19a70c": {
          "model_module": "@jupyter-widgets/base",
          "model_name": "LayoutModel",
          "model_module_version": "1.2.0",
          "state": {
            "_model_module": "@jupyter-widgets/base",
            "_model_module_version": "1.2.0",
            "_model_name": "LayoutModel",
            "_view_count": null,
            "_view_module": "@jupyter-widgets/base",
            "_view_module_version": "1.2.0",
            "_view_name": "LayoutView",
            "align_content": null,
            "align_items": null,
            "align_self": null,
            "border": null,
            "bottom": null,
            "display": null,
            "flex": null,
            "flex_flow": null,
            "grid_area": null,
            "grid_auto_columns": null,
            "grid_auto_flow": null,
            "grid_auto_rows": null,
            "grid_column": null,
            "grid_gap": null,
            "grid_row": null,
            "grid_template_areas": null,
            "grid_template_columns": null,
            "grid_template_rows": null,
            "height": null,
            "justify_content": null,
            "justify_items": null,
            "left": null,
            "margin": null,
            "max_height": null,
            "max_width": null,
            "min_height": null,
            "min_width": null,
            "object_fit": null,
            "object_position": null,
            "order": null,
            "overflow": null,
            "overflow_x": null,
            "overflow_y": null,
            "padding": null,
            "right": null,
            "top": null,
            "visibility": null,
            "width": null
          }
        },
        "5c23b3a4ffc44d81a58635db1a4ddede": {
          "model_module": "@jupyter-widgets/controls",
          "model_name": "ProgressStyleModel",
          "model_module_version": "1.5.0",
          "state": {
            "_model_module": "@jupyter-widgets/controls",
            "_model_module_version": "1.5.0",
            "_model_name": "ProgressStyleModel",
            "_view_count": null,
            "_view_module": "@jupyter-widgets/base",
            "_view_module_version": "1.2.0",
            "_view_name": "StyleView",
            "bar_color": null,
            "description_width": ""
          }
        },
        "57750d0b47fe4ae0a3be1758d192c5b6": {
          "model_module": "@jupyter-widgets/base",
          "model_name": "LayoutModel",
          "model_module_version": "1.2.0",
          "state": {
            "_model_module": "@jupyter-widgets/base",
            "_model_module_version": "1.2.0",
            "_model_name": "LayoutModel",
            "_view_count": null,
            "_view_module": "@jupyter-widgets/base",
            "_view_module_version": "1.2.0",
            "_view_name": "LayoutView",
            "align_content": null,
            "align_items": null,
            "align_self": null,
            "border": null,
            "bottom": null,
            "display": null,
            "flex": null,
            "flex_flow": null,
            "grid_area": null,
            "grid_auto_columns": null,
            "grid_auto_flow": null,
            "grid_auto_rows": null,
            "grid_column": null,
            "grid_gap": null,
            "grid_row": null,
            "grid_template_areas": null,
            "grid_template_columns": null,
            "grid_template_rows": null,
            "height": null,
            "justify_content": null,
            "justify_items": null,
            "left": null,
            "margin": null,
            "max_height": null,
            "max_width": null,
            "min_height": null,
            "min_width": null,
            "object_fit": null,
            "object_position": null,
            "order": null,
            "overflow": null,
            "overflow_x": null,
            "overflow_y": null,
            "padding": null,
            "right": null,
            "top": null,
            "visibility": null,
            "width": null
          }
        },
        "ca63ee76f48f4a9d97508b110eb6676f": {
          "model_module": "@jupyter-widgets/controls",
          "model_name": "DescriptionStyleModel",
          "model_module_version": "1.5.0",
          "state": {
            "_model_module": "@jupyter-widgets/controls",
            "_model_module_version": "1.5.0",
            "_model_name": "DescriptionStyleModel",
            "_view_count": null,
            "_view_module": "@jupyter-widgets/base",
            "_view_module_version": "1.2.0",
            "_view_name": "StyleView",
            "description_width": ""
          }
        },
        "5bc837ba50ea4be39c38b626027099a3": {
          "model_module": "@jupyter-widgets/controls",
          "model_name": "HBoxModel",
          "model_module_version": "1.5.0",
          "state": {
            "_dom_classes": [],
            "_model_module": "@jupyter-widgets/controls",
            "_model_module_version": "1.5.0",
            "_model_name": "HBoxModel",
            "_view_count": null,
            "_view_module": "@jupyter-widgets/controls",
            "_view_module_version": "1.5.0",
            "_view_name": "HBoxView",
            "box_style": "",
            "children": [
              "IPY_MODEL_9580b8a0feb54fcd94bc628c85ffdff2",
              "IPY_MODEL_fa8db248ace34da58deb55c96b1220eb",
              "IPY_MODEL_da866e90cc684673ab92f34f517903b3"
            ],
            "layout": "IPY_MODEL_11f838d6578d4f06a1f712f7c0c45e47"
          }
        },
        "9580b8a0feb54fcd94bc628c85ffdff2": {
          "model_module": "@jupyter-widgets/controls",
          "model_name": "HTMLModel",
          "model_module_version": "1.5.0",
          "state": {
            "_dom_classes": [],
            "_model_module": "@jupyter-widgets/controls",
            "_model_module_version": "1.5.0",
            "_model_name": "HTMLModel",
            "_view_count": null,
            "_view_module": "@jupyter-widgets/controls",
            "_view_module_version": "1.5.0",
            "_view_name": "HTMLView",
            "description": "",
            "description_tooltip": null,
            "layout": "IPY_MODEL_1f84af7f5f274e08a5f1123f6834fdc6",
            "placeholder": "​",
            "style": "IPY_MODEL_8f372b41bf664fc59efc61ac371f67a2",
            "value": "100%"
          }
        },
        "fa8db248ace34da58deb55c96b1220eb": {
          "model_module": "@jupyter-widgets/controls",
          "model_name": "FloatProgressModel",
          "model_module_version": "1.5.0",
          "state": {
            "_dom_classes": [],
            "_model_module": "@jupyter-widgets/controls",
            "_model_module_version": "1.5.0",
            "_model_name": "FloatProgressModel",
            "_view_count": null,
            "_view_module": "@jupyter-widgets/controls",
            "_view_module_version": "1.5.0",
            "_view_name": "ProgressView",
            "bar_style": "success",
            "description": "",
            "description_tooltip": null,
            "layout": "IPY_MODEL_755a1733bbae4ada9a172aefe2f1ead3",
            "max": 28881,
            "min": 0,
            "orientation": "horizontal",
            "style": "IPY_MODEL_5047f93673204ee0ac87c63c044729d7",
            "value": 28881
          }
        },
        "da866e90cc684673ab92f34f517903b3": {
          "model_module": "@jupyter-widgets/controls",
          "model_name": "HTMLModel",
          "model_module_version": "1.5.0",
          "state": {
            "_dom_classes": [],
            "_model_module": "@jupyter-widgets/controls",
            "_model_module_version": "1.5.0",
            "_model_name": "HTMLModel",
            "_view_count": null,
            "_view_module": "@jupyter-widgets/controls",
            "_view_module_version": "1.5.0",
            "_view_name": "HTMLView",
            "description": "",
            "description_tooltip": null,
            "layout": "IPY_MODEL_5a08b7d0abbf4b7987bbabe30870ebd6",
            "placeholder": "​",
            "style": "IPY_MODEL_ddc3d683e8014b30bcf8451ccbe61862",
            "value": " 28881/28881 [00:00&lt;00:00, 593613.28it/s]"
          }
        },
        "11f838d6578d4f06a1f712f7c0c45e47": {
          "model_module": "@jupyter-widgets/base",
          "model_name": "LayoutModel",
          "model_module_version": "1.2.0",
          "state": {
            "_model_module": "@jupyter-widgets/base",
            "_model_module_version": "1.2.0",
            "_model_name": "LayoutModel",
            "_view_count": null,
            "_view_module": "@jupyter-widgets/base",
            "_view_module_version": "1.2.0",
            "_view_name": "LayoutView",
            "align_content": null,
            "align_items": null,
            "align_self": null,
            "border": null,
            "bottom": null,
            "display": null,
            "flex": null,
            "flex_flow": null,
            "grid_area": null,
            "grid_auto_columns": null,
            "grid_auto_flow": null,
            "grid_auto_rows": null,
            "grid_column": null,
            "grid_gap": null,
            "grid_row": null,
            "grid_template_areas": null,
            "grid_template_columns": null,
            "grid_template_rows": null,
            "height": null,
            "justify_content": null,
            "justify_items": null,
            "left": null,
            "margin": null,
            "max_height": null,
            "max_width": null,
            "min_height": null,
            "min_width": null,
            "object_fit": null,
            "object_position": null,
            "order": null,
            "overflow": null,
            "overflow_x": null,
            "overflow_y": null,
            "padding": null,
            "right": null,
            "top": null,
            "visibility": null,
            "width": null
          }
        },
        "1f84af7f5f274e08a5f1123f6834fdc6": {
          "model_module": "@jupyter-widgets/base",
          "model_name": "LayoutModel",
          "model_module_version": "1.2.0",
          "state": {
            "_model_module": "@jupyter-widgets/base",
            "_model_module_version": "1.2.0",
            "_model_name": "LayoutModel",
            "_view_count": null,
            "_view_module": "@jupyter-widgets/base",
            "_view_module_version": "1.2.0",
            "_view_name": "LayoutView",
            "align_content": null,
            "align_items": null,
            "align_self": null,
            "border": null,
            "bottom": null,
            "display": null,
            "flex": null,
            "flex_flow": null,
            "grid_area": null,
            "grid_auto_columns": null,
            "grid_auto_flow": null,
            "grid_auto_rows": null,
            "grid_column": null,
            "grid_gap": null,
            "grid_row": null,
            "grid_template_areas": null,
            "grid_template_columns": null,
            "grid_template_rows": null,
            "height": null,
            "justify_content": null,
            "justify_items": null,
            "left": null,
            "margin": null,
            "max_height": null,
            "max_width": null,
            "min_height": null,
            "min_width": null,
            "object_fit": null,
            "object_position": null,
            "order": null,
            "overflow": null,
            "overflow_x": null,
            "overflow_y": null,
            "padding": null,
            "right": null,
            "top": null,
            "visibility": null,
            "width": null
          }
        },
        "8f372b41bf664fc59efc61ac371f67a2": {
          "model_module": "@jupyter-widgets/controls",
          "model_name": "DescriptionStyleModel",
          "model_module_version": "1.5.0",
          "state": {
            "_model_module": "@jupyter-widgets/controls",
            "_model_module_version": "1.5.0",
            "_model_name": "DescriptionStyleModel",
            "_view_count": null,
            "_view_module": "@jupyter-widgets/base",
            "_view_module_version": "1.2.0",
            "_view_name": "StyleView",
            "description_width": ""
          }
        },
        "755a1733bbae4ada9a172aefe2f1ead3": {
          "model_module": "@jupyter-widgets/base",
          "model_name": "LayoutModel",
          "model_module_version": "1.2.0",
          "state": {
            "_model_module": "@jupyter-widgets/base",
            "_model_module_version": "1.2.0",
            "_model_name": "LayoutModel",
            "_view_count": null,
            "_view_module": "@jupyter-widgets/base",
            "_view_module_version": "1.2.0",
            "_view_name": "LayoutView",
            "align_content": null,
            "align_items": null,
            "align_self": null,
            "border": null,
            "bottom": null,
            "display": null,
            "flex": null,
            "flex_flow": null,
            "grid_area": null,
            "grid_auto_columns": null,
            "grid_auto_flow": null,
            "grid_auto_rows": null,
            "grid_column": null,
            "grid_gap": null,
            "grid_row": null,
            "grid_template_areas": null,
            "grid_template_columns": null,
            "grid_template_rows": null,
            "height": null,
            "justify_content": null,
            "justify_items": null,
            "left": null,
            "margin": null,
            "max_height": null,
            "max_width": null,
            "min_height": null,
            "min_width": null,
            "object_fit": null,
            "object_position": null,
            "order": null,
            "overflow": null,
            "overflow_x": null,
            "overflow_y": null,
            "padding": null,
            "right": null,
            "top": null,
            "visibility": null,
            "width": null
          }
        },
        "5047f93673204ee0ac87c63c044729d7": {
          "model_module": "@jupyter-widgets/controls",
          "model_name": "ProgressStyleModel",
          "model_module_version": "1.5.0",
          "state": {
            "_model_module": "@jupyter-widgets/controls",
            "_model_module_version": "1.5.0",
            "_model_name": "ProgressStyleModel",
            "_view_count": null,
            "_view_module": "@jupyter-widgets/base",
            "_view_module_version": "1.2.0",
            "_view_name": "StyleView",
            "bar_color": null,
            "description_width": ""
          }
        },
        "5a08b7d0abbf4b7987bbabe30870ebd6": {
          "model_module": "@jupyter-widgets/base",
          "model_name": "LayoutModel",
          "model_module_version": "1.2.0",
          "state": {
            "_model_module": "@jupyter-widgets/base",
            "_model_module_version": "1.2.0",
            "_model_name": "LayoutModel",
            "_view_count": null,
            "_view_module": "@jupyter-widgets/base",
            "_view_module_version": "1.2.0",
            "_view_name": "LayoutView",
            "align_content": null,
            "align_items": null,
            "align_self": null,
            "border": null,
            "bottom": null,
            "display": null,
            "flex": null,
            "flex_flow": null,
            "grid_area": null,
            "grid_auto_columns": null,
            "grid_auto_flow": null,
            "grid_auto_rows": null,
            "grid_column": null,
            "grid_gap": null,
            "grid_row": null,
            "grid_template_areas": null,
            "grid_template_columns": null,
            "grid_template_rows": null,
            "height": null,
            "justify_content": null,
            "justify_items": null,
            "left": null,
            "margin": null,
            "max_height": null,
            "max_width": null,
            "min_height": null,
            "min_width": null,
            "object_fit": null,
            "object_position": null,
            "order": null,
            "overflow": null,
            "overflow_x": null,
            "overflow_y": null,
            "padding": null,
            "right": null,
            "top": null,
            "visibility": null,
            "width": null
          }
        },
        "ddc3d683e8014b30bcf8451ccbe61862": {
          "model_module": "@jupyter-widgets/controls",
          "model_name": "DescriptionStyleModel",
          "model_module_version": "1.5.0",
          "state": {
            "_model_module": "@jupyter-widgets/controls",
            "_model_module_version": "1.5.0",
            "_model_name": "DescriptionStyleModel",
            "_view_count": null,
            "_view_module": "@jupyter-widgets/base",
            "_view_module_version": "1.2.0",
            "_view_name": "StyleView",
            "description_width": ""
          }
        },
        "b87a946a47d54db5a24fd8b4d93b8ec8": {
          "model_module": "@jupyter-widgets/controls",
          "model_name": "HBoxModel",
          "model_module_version": "1.5.0",
          "state": {
            "_dom_classes": [],
            "_model_module": "@jupyter-widgets/controls",
            "_model_module_version": "1.5.0",
            "_model_name": "HBoxModel",
            "_view_count": null,
            "_view_module": "@jupyter-widgets/controls",
            "_view_module_version": "1.5.0",
            "_view_name": "HBoxView",
            "box_style": "",
            "children": [
              "IPY_MODEL_665381c5af234d71966bada3f45d4555",
              "IPY_MODEL_4c810f8c22b647d4b8e0ec42db886595",
              "IPY_MODEL_2873784a51f744b1b2aaa4269da697d1"
            ],
            "layout": "IPY_MODEL_68bf7d066a714b5a8e3ee40eb5368172"
          }
        },
        "665381c5af234d71966bada3f45d4555": {
          "model_module": "@jupyter-widgets/controls",
          "model_name": "HTMLModel",
          "model_module_version": "1.5.0",
          "state": {
            "_dom_classes": [],
            "_model_module": "@jupyter-widgets/controls",
            "_model_module_version": "1.5.0",
            "_model_name": "HTMLModel",
            "_view_count": null,
            "_view_module": "@jupyter-widgets/controls",
            "_view_module_version": "1.5.0",
            "_view_name": "HTMLView",
            "description": "",
            "description_tooltip": null,
            "layout": "IPY_MODEL_5c97b998ff7247afae856701f26eb0c7",
            "placeholder": "​",
            "style": "IPY_MODEL_e38ced88c72946ecac898e8f162461c6",
            "value": "100%"
          }
        },
        "4c810f8c22b647d4b8e0ec42db886595": {
          "model_module": "@jupyter-widgets/controls",
          "model_name": "FloatProgressModel",
          "model_module_version": "1.5.0",
          "state": {
            "_dom_classes": [],
            "_model_module": "@jupyter-widgets/controls",
            "_model_module_version": "1.5.0",
            "_model_name": "FloatProgressModel",
            "_view_count": null,
            "_view_module": "@jupyter-widgets/controls",
            "_view_module_version": "1.5.0",
            "_view_name": "ProgressView",
            "bar_style": "success",
            "description": "",
            "description_tooltip": null,
            "layout": "IPY_MODEL_5aa41a4c54744c48bc47b3e11e3faea4",
            "max": 1648877,
            "min": 0,
            "orientation": "horizontal",
            "style": "IPY_MODEL_5041cab475a64ce095d3ff7704122e3a",
            "value": 1648877
          }
        },
        "2873784a51f744b1b2aaa4269da697d1": {
          "model_module": "@jupyter-widgets/controls",
          "model_name": "HTMLModel",
          "model_module_version": "1.5.0",
          "state": {
            "_dom_classes": [],
            "_model_module": "@jupyter-widgets/controls",
            "_model_module_version": "1.5.0",
            "_model_name": "HTMLModel",
            "_view_count": null,
            "_view_module": "@jupyter-widgets/controls",
            "_view_module_version": "1.5.0",
            "_view_name": "HTMLView",
            "description": "",
            "description_tooltip": null,
            "layout": "IPY_MODEL_805518a9557d4653bce551ed15ad914b",
            "placeholder": "​",
            "style": "IPY_MODEL_4db5a3bb242f4501added036232b7914",
            "value": " 1648877/1648877 [00:00&lt;00:00, 19493299.84it/s]"
          }
        },
        "68bf7d066a714b5a8e3ee40eb5368172": {
          "model_module": "@jupyter-widgets/base",
          "model_name": "LayoutModel",
          "model_module_version": "1.2.0",
          "state": {
            "_model_module": "@jupyter-widgets/base",
            "_model_module_version": "1.2.0",
            "_model_name": "LayoutModel",
            "_view_count": null,
            "_view_module": "@jupyter-widgets/base",
            "_view_module_version": "1.2.0",
            "_view_name": "LayoutView",
            "align_content": null,
            "align_items": null,
            "align_self": null,
            "border": null,
            "bottom": null,
            "display": null,
            "flex": null,
            "flex_flow": null,
            "grid_area": null,
            "grid_auto_columns": null,
            "grid_auto_flow": null,
            "grid_auto_rows": null,
            "grid_column": null,
            "grid_gap": null,
            "grid_row": null,
            "grid_template_areas": null,
            "grid_template_columns": null,
            "grid_template_rows": null,
            "height": null,
            "justify_content": null,
            "justify_items": null,
            "left": null,
            "margin": null,
            "max_height": null,
            "max_width": null,
            "min_height": null,
            "min_width": null,
            "object_fit": null,
            "object_position": null,
            "order": null,
            "overflow": null,
            "overflow_x": null,
            "overflow_y": null,
            "padding": null,
            "right": null,
            "top": null,
            "visibility": null,
            "width": null
          }
        },
        "5c97b998ff7247afae856701f26eb0c7": {
          "model_module": "@jupyter-widgets/base",
          "model_name": "LayoutModel",
          "model_module_version": "1.2.0",
          "state": {
            "_model_module": "@jupyter-widgets/base",
            "_model_module_version": "1.2.0",
            "_model_name": "LayoutModel",
            "_view_count": null,
            "_view_module": "@jupyter-widgets/base",
            "_view_module_version": "1.2.0",
            "_view_name": "LayoutView",
            "align_content": null,
            "align_items": null,
            "align_self": null,
            "border": null,
            "bottom": null,
            "display": null,
            "flex": null,
            "flex_flow": null,
            "grid_area": null,
            "grid_auto_columns": null,
            "grid_auto_flow": null,
            "grid_auto_rows": null,
            "grid_column": null,
            "grid_gap": null,
            "grid_row": null,
            "grid_template_areas": null,
            "grid_template_columns": null,
            "grid_template_rows": null,
            "height": null,
            "justify_content": null,
            "justify_items": null,
            "left": null,
            "margin": null,
            "max_height": null,
            "max_width": null,
            "min_height": null,
            "min_width": null,
            "object_fit": null,
            "object_position": null,
            "order": null,
            "overflow": null,
            "overflow_x": null,
            "overflow_y": null,
            "padding": null,
            "right": null,
            "top": null,
            "visibility": null,
            "width": null
          }
        },
        "e38ced88c72946ecac898e8f162461c6": {
          "model_module": "@jupyter-widgets/controls",
          "model_name": "DescriptionStyleModel",
          "model_module_version": "1.5.0",
          "state": {
            "_model_module": "@jupyter-widgets/controls",
            "_model_module_version": "1.5.0",
            "_model_name": "DescriptionStyleModel",
            "_view_count": null,
            "_view_module": "@jupyter-widgets/base",
            "_view_module_version": "1.2.0",
            "_view_name": "StyleView",
            "description_width": ""
          }
        },
        "5aa41a4c54744c48bc47b3e11e3faea4": {
          "model_module": "@jupyter-widgets/base",
          "model_name": "LayoutModel",
          "model_module_version": "1.2.0",
          "state": {
            "_model_module": "@jupyter-widgets/base",
            "_model_module_version": "1.2.0",
            "_model_name": "LayoutModel",
            "_view_count": null,
            "_view_module": "@jupyter-widgets/base",
            "_view_module_version": "1.2.0",
            "_view_name": "LayoutView",
            "align_content": null,
            "align_items": null,
            "align_self": null,
            "border": null,
            "bottom": null,
            "display": null,
            "flex": null,
            "flex_flow": null,
            "grid_area": null,
            "grid_auto_columns": null,
            "grid_auto_flow": null,
            "grid_auto_rows": null,
            "grid_column": null,
            "grid_gap": null,
            "grid_row": null,
            "grid_template_areas": null,
            "grid_template_columns": null,
            "grid_template_rows": null,
            "height": null,
            "justify_content": null,
            "justify_items": null,
            "left": null,
            "margin": null,
            "max_height": null,
            "max_width": null,
            "min_height": null,
            "min_width": null,
            "object_fit": null,
            "object_position": null,
            "order": null,
            "overflow": null,
            "overflow_x": null,
            "overflow_y": null,
            "padding": null,
            "right": null,
            "top": null,
            "visibility": null,
            "width": null
          }
        },
        "5041cab475a64ce095d3ff7704122e3a": {
          "model_module": "@jupyter-widgets/controls",
          "model_name": "ProgressStyleModel",
          "model_module_version": "1.5.0",
          "state": {
            "_model_module": "@jupyter-widgets/controls",
            "_model_module_version": "1.5.0",
            "_model_name": "ProgressStyleModel",
            "_view_count": null,
            "_view_module": "@jupyter-widgets/base",
            "_view_module_version": "1.2.0",
            "_view_name": "StyleView",
            "bar_color": null,
            "description_width": ""
          }
        },
        "805518a9557d4653bce551ed15ad914b": {
          "model_module": "@jupyter-widgets/base",
          "model_name": "LayoutModel",
          "model_module_version": "1.2.0",
          "state": {
            "_model_module": "@jupyter-widgets/base",
            "_model_module_version": "1.2.0",
            "_model_name": "LayoutModel",
            "_view_count": null,
            "_view_module": "@jupyter-widgets/base",
            "_view_module_version": "1.2.0",
            "_view_name": "LayoutView",
            "align_content": null,
            "align_items": null,
            "align_self": null,
            "border": null,
            "bottom": null,
            "display": null,
            "flex": null,
            "flex_flow": null,
            "grid_area": null,
            "grid_auto_columns": null,
            "grid_auto_flow": null,
            "grid_auto_rows": null,
            "grid_column": null,
            "grid_gap": null,
            "grid_row": null,
            "grid_template_areas": null,
            "grid_template_columns": null,
            "grid_template_rows": null,
            "height": null,
            "justify_content": null,
            "justify_items": null,
            "left": null,
            "margin": null,
            "max_height": null,
            "max_width": null,
            "min_height": null,
            "min_width": null,
            "object_fit": null,
            "object_position": null,
            "order": null,
            "overflow": null,
            "overflow_x": null,
            "overflow_y": null,
            "padding": null,
            "right": null,
            "top": null,
            "visibility": null,
            "width": null
          }
        },
        "4db5a3bb242f4501added036232b7914": {
          "model_module": "@jupyter-widgets/controls",
          "model_name": "DescriptionStyleModel",
          "model_module_version": "1.5.0",
          "state": {
            "_model_module": "@jupyter-widgets/controls",
            "_model_module_version": "1.5.0",
            "_model_name": "DescriptionStyleModel",
            "_view_count": null,
            "_view_module": "@jupyter-widgets/base",
            "_view_module_version": "1.2.0",
            "_view_name": "StyleView",
            "description_width": ""
          }
        },
        "d32087ecdd7f4579b6277440c1bb97a4": {
          "model_module": "@jupyter-widgets/controls",
          "model_name": "HBoxModel",
          "model_module_version": "1.5.0",
          "state": {
            "_dom_classes": [],
            "_model_module": "@jupyter-widgets/controls",
            "_model_module_version": "1.5.0",
            "_model_name": "HBoxModel",
            "_view_count": null,
            "_view_module": "@jupyter-widgets/controls",
            "_view_module_version": "1.5.0",
            "_view_name": "HBoxView",
            "box_style": "",
            "children": [
              "IPY_MODEL_94d7702b763d4d0988c14d9585273a0a",
              "IPY_MODEL_6d9d351eca224d2db45c51684223c46c",
              "IPY_MODEL_292d146a33e243f1b3c745490af19a0a"
            ],
            "layout": "IPY_MODEL_f3ccfed2b8c7440d8b9ed785b4443346"
          }
        },
        "94d7702b763d4d0988c14d9585273a0a": {
          "model_module": "@jupyter-widgets/controls",
          "model_name": "HTMLModel",
          "model_module_version": "1.5.0",
          "state": {
            "_dom_classes": [],
            "_model_module": "@jupyter-widgets/controls",
            "_model_module_version": "1.5.0",
            "_model_name": "HTMLModel",
            "_view_count": null,
            "_view_module": "@jupyter-widgets/controls",
            "_view_module_version": "1.5.0",
            "_view_name": "HTMLView",
            "description": "",
            "description_tooltip": null,
            "layout": "IPY_MODEL_bbc0041cbab34d3eb039c15fade2d821",
            "placeholder": "​",
            "style": "IPY_MODEL_311c73584fe64f15b0d561ba56be48eb",
            "value": "100%"
          }
        },
        "6d9d351eca224d2db45c51684223c46c": {
          "model_module": "@jupyter-widgets/controls",
          "model_name": "FloatProgressModel",
          "model_module_version": "1.5.0",
          "state": {
            "_dom_classes": [],
            "_model_module": "@jupyter-widgets/controls",
            "_model_module_version": "1.5.0",
            "_model_name": "FloatProgressModel",
            "_view_count": null,
            "_view_module": "@jupyter-widgets/controls",
            "_view_module_version": "1.5.0",
            "_view_name": "ProgressView",
            "bar_style": "success",
            "description": "",
            "description_tooltip": null,
            "layout": "IPY_MODEL_0a730c7f7eb74ea6ba0dd25fbf4eb47b",
            "max": 4542,
            "min": 0,
            "orientation": "horizontal",
            "style": "IPY_MODEL_871b6aa7bbac48fc82f8ff42c8c20d42",
            "value": 4542
          }
        },
        "292d146a33e243f1b3c745490af19a0a": {
          "model_module": "@jupyter-widgets/controls",
          "model_name": "HTMLModel",
          "model_module_version": "1.5.0",
          "state": {
            "_dom_classes": [],
            "_model_module": "@jupyter-widgets/controls",
            "_model_module_version": "1.5.0",
            "_model_name": "HTMLModel",
            "_view_count": null,
            "_view_module": "@jupyter-widgets/controls",
            "_view_module_version": "1.5.0",
            "_view_name": "HTMLView",
            "description": "",
            "description_tooltip": null,
            "layout": "IPY_MODEL_732b2a0f18d245a7922eef54ac200f96",
            "placeholder": "​",
            "style": "IPY_MODEL_ab2cadc0c88e46c89559fae3afa1491d",
            "value": " 4542/4542 [00:00&lt;00:00, 134864.32it/s]"
          }
        },
        "f3ccfed2b8c7440d8b9ed785b4443346": {
          "model_module": "@jupyter-widgets/base",
          "model_name": "LayoutModel",
          "model_module_version": "1.2.0",
          "state": {
            "_model_module": "@jupyter-widgets/base",
            "_model_module_version": "1.2.0",
            "_model_name": "LayoutModel",
            "_view_count": null,
            "_view_module": "@jupyter-widgets/base",
            "_view_module_version": "1.2.0",
            "_view_name": "LayoutView",
            "align_content": null,
            "align_items": null,
            "align_self": null,
            "border": null,
            "bottom": null,
            "display": null,
            "flex": null,
            "flex_flow": null,
            "grid_area": null,
            "grid_auto_columns": null,
            "grid_auto_flow": null,
            "grid_auto_rows": null,
            "grid_column": null,
            "grid_gap": null,
            "grid_row": null,
            "grid_template_areas": null,
            "grid_template_columns": null,
            "grid_template_rows": null,
            "height": null,
            "justify_content": null,
            "justify_items": null,
            "left": null,
            "margin": null,
            "max_height": null,
            "max_width": null,
            "min_height": null,
            "min_width": null,
            "object_fit": null,
            "object_position": null,
            "order": null,
            "overflow": null,
            "overflow_x": null,
            "overflow_y": null,
            "padding": null,
            "right": null,
            "top": null,
            "visibility": null,
            "width": null
          }
        },
        "bbc0041cbab34d3eb039c15fade2d821": {
          "model_module": "@jupyter-widgets/base",
          "model_name": "LayoutModel",
          "model_module_version": "1.2.0",
          "state": {
            "_model_module": "@jupyter-widgets/base",
            "_model_module_version": "1.2.0",
            "_model_name": "LayoutModel",
            "_view_count": null,
            "_view_module": "@jupyter-widgets/base",
            "_view_module_version": "1.2.0",
            "_view_name": "LayoutView",
            "align_content": null,
            "align_items": null,
            "align_self": null,
            "border": null,
            "bottom": null,
            "display": null,
            "flex": null,
            "flex_flow": null,
            "grid_area": null,
            "grid_auto_columns": null,
            "grid_auto_flow": null,
            "grid_auto_rows": null,
            "grid_column": null,
            "grid_gap": null,
            "grid_row": null,
            "grid_template_areas": null,
            "grid_template_columns": null,
            "grid_template_rows": null,
            "height": null,
            "justify_content": null,
            "justify_items": null,
            "left": null,
            "margin": null,
            "max_height": null,
            "max_width": null,
            "min_height": null,
            "min_width": null,
            "object_fit": null,
            "object_position": null,
            "order": null,
            "overflow": null,
            "overflow_x": null,
            "overflow_y": null,
            "padding": null,
            "right": null,
            "top": null,
            "visibility": null,
            "width": null
          }
        },
        "311c73584fe64f15b0d561ba56be48eb": {
          "model_module": "@jupyter-widgets/controls",
          "model_name": "DescriptionStyleModel",
          "model_module_version": "1.5.0",
          "state": {
            "_model_module": "@jupyter-widgets/controls",
            "_model_module_version": "1.5.0",
            "_model_name": "DescriptionStyleModel",
            "_view_count": null,
            "_view_module": "@jupyter-widgets/base",
            "_view_module_version": "1.2.0",
            "_view_name": "StyleView",
            "description_width": ""
          }
        },
        "0a730c7f7eb74ea6ba0dd25fbf4eb47b": {
          "model_module": "@jupyter-widgets/base",
          "model_name": "LayoutModel",
          "model_module_version": "1.2.0",
          "state": {
            "_model_module": "@jupyter-widgets/base",
            "_model_module_version": "1.2.0",
            "_model_name": "LayoutModel",
            "_view_count": null,
            "_view_module": "@jupyter-widgets/base",
            "_view_module_version": "1.2.0",
            "_view_name": "LayoutView",
            "align_content": null,
            "align_items": null,
            "align_self": null,
            "border": null,
            "bottom": null,
            "display": null,
            "flex": null,
            "flex_flow": null,
            "grid_area": null,
            "grid_auto_columns": null,
            "grid_auto_flow": null,
            "grid_auto_rows": null,
            "grid_column": null,
            "grid_gap": null,
            "grid_row": null,
            "grid_template_areas": null,
            "grid_template_columns": null,
            "grid_template_rows": null,
            "height": null,
            "justify_content": null,
            "justify_items": null,
            "left": null,
            "margin": null,
            "max_height": null,
            "max_width": null,
            "min_height": null,
            "min_width": null,
            "object_fit": null,
            "object_position": null,
            "order": null,
            "overflow": null,
            "overflow_x": null,
            "overflow_y": null,
            "padding": null,
            "right": null,
            "top": null,
            "visibility": null,
            "width": null
          }
        },
        "871b6aa7bbac48fc82f8ff42c8c20d42": {
          "model_module": "@jupyter-widgets/controls",
          "model_name": "ProgressStyleModel",
          "model_module_version": "1.5.0",
          "state": {
            "_model_module": "@jupyter-widgets/controls",
            "_model_module_version": "1.5.0",
            "_model_name": "ProgressStyleModel",
            "_view_count": null,
            "_view_module": "@jupyter-widgets/base",
            "_view_module_version": "1.2.0",
            "_view_name": "StyleView",
            "bar_color": null,
            "description_width": ""
          }
        },
        "732b2a0f18d245a7922eef54ac200f96": {
          "model_module": "@jupyter-widgets/base",
          "model_name": "LayoutModel",
          "model_module_version": "1.2.0",
          "state": {
            "_model_module": "@jupyter-widgets/base",
            "_model_module_version": "1.2.0",
            "_model_name": "LayoutModel",
            "_view_count": null,
            "_view_module": "@jupyter-widgets/base",
            "_view_module_version": "1.2.0",
            "_view_name": "LayoutView",
            "align_content": null,
            "align_items": null,
            "align_self": null,
            "border": null,
            "bottom": null,
            "display": null,
            "flex": null,
            "flex_flow": null,
            "grid_area": null,
            "grid_auto_columns": null,
            "grid_auto_flow": null,
            "grid_auto_rows": null,
            "grid_column": null,
            "grid_gap": null,
            "grid_row": null,
            "grid_template_areas": null,
            "grid_template_columns": null,
            "grid_template_rows": null,
            "height": null,
            "justify_content": null,
            "justify_items": null,
            "left": null,
            "margin": null,
            "max_height": null,
            "max_width": null,
            "min_height": null,
            "min_width": null,
            "object_fit": null,
            "object_position": null,
            "order": null,
            "overflow": null,
            "overflow_x": null,
            "overflow_y": null,
            "padding": null,
            "right": null,
            "top": null,
            "visibility": null,
            "width": null
          }
        },
        "ab2cadc0c88e46c89559fae3afa1491d": {
          "model_module": "@jupyter-widgets/controls",
          "model_name": "DescriptionStyleModel",
          "model_module_version": "1.5.0",
          "state": {
            "_model_module": "@jupyter-widgets/controls",
            "_model_module_version": "1.5.0",
            "_model_name": "DescriptionStyleModel",
            "_view_count": null,
            "_view_module": "@jupyter-widgets/base",
            "_view_module_version": "1.2.0",
            "_view_name": "StyleView",
            "description_width": ""
          }
        }
      }
    }
  },
  "cells": [
    {
      "cell_type": "markdown",
      "metadata": {
        "id": "view-in-github",
        "colab_type": "text"
      },
      "source": [
        "<a href=\"https://colab.research.google.com/github/AcTlm/deep_learning/blob/main/CNN1.ipynb\" target=\"_parent\"><img src=\"https://colab.research.google.com/assets/colab-badge.svg\" alt=\"Open In Colab\"/></a>"
      ]
    },
    {
      "cell_type": "markdown",
      "source": [],
      "metadata": {
        "id": "Q7lH9ZSh63yG"
      }
    },
    {
      "cell_type": "markdown",
      "source": [
        "### **Réseaux convolutionnels pour le traitement de l'image**"
      ],
      "metadata": {
        "id": "2faahZ7D64uz"
      }
    },
    {
      "cell_type": "markdown",
      "source": [
        "### **Partie A : Prise en main des CNN, introspection**"
      ],
      "metadata": {
        "id": "SIKgYc_M7Gfp"
      }
    },
    {
      "cell_type": "markdown",
      "source": [
        "Vincent Guigue\n",
        "\n",
        "[directement inspiré de:] Nicolas Baskiotis (nicolas.baskiotis@soronne-univeriste.fr) Benjamin Piwowarski (benjamin.piwowarski@sorbonne-universite.fr) -- MLIA/ISIR, Sorbonne Université\n",
        "\n",
        "Les objectifs de ce module sont :\n",
        "\n",
        "Prise en main des réseaux convolutionnels (CNN)\n",
        "Apprentissage d'un CNN\n",
        "Introspection d'un CNN\n",
        "Nous travaillerons dans un premier temps avec les données MNIST puis avec le jeu de données CIFAR d'images de 10 classes"
      ],
      "metadata": {
        "id": "xjumSV4Z7CJ1"
      }
    },
    {
      "cell_type": "code",
      "source": [
        "from tqdm import tqdm\n",
        "import numpy as np\n",
        "import matplotlib.pyplot as plt\n",
        "\n",
        "import torch\n",
        "from torch import nn\n",
        "from torch.nn import functional as F\n",
        "from torch import optim\n",
        "from torch.utils.data import TensorDataset, DataLoader,Dataset,random_split\n",
        "\n",
        "import time\n",
        "import os"
      ],
      "metadata": {
        "id": "Bo8IkVYd7JQf"
      },
      "execution_count": 1,
      "outputs": []
    },
    {
      "cell_type": "code",
      "source": [
        "from torch.utils.tensorboard import SummaryWriter\n",
        "from tensorboard import notebook\n",
        "\n",
        "TB_PATH = \"/tmp/logs/module2\"\n",
        "%load_ext tensorboard\n",
        "%tensorboard --logdir {TB_PATH}\n",
        "\n",
        "device = torch.device(\"cuda\" if torch.cuda.is_available() else \"cpu\")\n",
        "print(device)"
      ],
      "metadata": {
        "id": "1_1cxIZA7nTD"
      },
      "execution_count": null,
      "outputs": []
    },
    {
      "cell_type": "markdown",
      "source": [
        "### **Premier réseau convolutionnel**"
      ],
      "metadata": {
        "id": "Ur9bPVR97oq7"
      }
    },
    {
      "cell_type": "code",
      "source": [
        "import torchvision.datasets as dset\n",
        "import torchvision.transforms as transforms\n",
        "\n",
        "root = '/tmp/'\n",
        "if not os.path.exists(root):\n",
        "    os.mkdir(root)\n",
        "\n",
        "# Téléchargement des données\n",
        "trans = transforms.Compose([transforms.ToTensor(), transforms.Normalize((0.,), (1.0,))])\n",
        "# if not exist, download mnist dataset\n",
        "train_set = dset.MNIST(root=root, train=True, transform=trans, download=True)\n",
        "test_set = dset.MNIST(root=root, train=False, transform=trans, download=True)"
      ],
      "metadata": {
        "colab": {
          "base_uri": "https://localhost:8080/",
          "height": 443,
          "referenced_widgets": [
            "c71a6f01a4f54ad384f8b80c0d3076de",
            "164dfa1d4bc447aa8453cf97fab0505f",
            "3109ce01fa44429ea9364985512ec616",
            "60fdcb92c84e4dfe96ee2aca18af5893",
            "ad48d9aab74d4d349a6c884bea052bbe",
            "e592fbad60c24cde924711c783d5c7b3",
            "10af0595f5c84753877a5c19e8e2b6e8",
            "65bc924741b74ab4b832391f4e19a70c",
            "5c23b3a4ffc44d81a58635db1a4ddede",
            "57750d0b47fe4ae0a3be1758d192c5b6",
            "ca63ee76f48f4a9d97508b110eb6676f",
            "5bc837ba50ea4be39c38b626027099a3",
            "9580b8a0feb54fcd94bc628c85ffdff2",
            "fa8db248ace34da58deb55c96b1220eb",
            "da866e90cc684673ab92f34f517903b3",
            "11f838d6578d4f06a1f712f7c0c45e47",
            "1f84af7f5f274e08a5f1123f6834fdc6",
            "8f372b41bf664fc59efc61ac371f67a2",
            "755a1733bbae4ada9a172aefe2f1ead3",
            "5047f93673204ee0ac87c63c044729d7",
            "5a08b7d0abbf4b7987bbabe30870ebd6",
            "ddc3d683e8014b30bcf8451ccbe61862",
            "b87a946a47d54db5a24fd8b4d93b8ec8",
            "665381c5af234d71966bada3f45d4555",
            "4c810f8c22b647d4b8e0ec42db886595",
            "2873784a51f744b1b2aaa4269da697d1",
            "68bf7d066a714b5a8e3ee40eb5368172",
            "5c97b998ff7247afae856701f26eb0c7",
            "e38ced88c72946ecac898e8f162461c6",
            "5aa41a4c54744c48bc47b3e11e3faea4",
            "5041cab475a64ce095d3ff7704122e3a",
            "805518a9557d4653bce551ed15ad914b",
            "4db5a3bb242f4501added036232b7914",
            "d32087ecdd7f4579b6277440c1bb97a4",
            "94d7702b763d4d0988c14d9585273a0a",
            "6d9d351eca224d2db45c51684223c46c",
            "292d146a33e243f1b3c745490af19a0a",
            "f3ccfed2b8c7440d8b9ed785b4443346",
            "bbc0041cbab34d3eb039c15fade2d821",
            "311c73584fe64f15b0d561ba56be48eb",
            "0a730c7f7eb74ea6ba0dd25fbf4eb47b",
            "871b6aa7bbac48fc82f8ff42c8c20d42",
            "732b2a0f18d245a7922eef54ac200f96",
            "ab2cadc0c88e46c89559fae3afa1491d"
          ]
        },
        "id": "4PUhM0eJ7zHx",
        "outputId": "c3a31da6-e9d2-4b93-c400-cd79c49e58c2"
      },
      "execution_count": 3,
      "outputs": [
        {
          "output_type": "stream",
          "name": "stdout",
          "text": [
            "Downloading http://yann.lecun.com/exdb/mnist/train-images-idx3-ubyte.gz\n",
            "Downloading http://yann.lecun.com/exdb/mnist/train-images-idx3-ubyte.gz to /tmp/MNIST/raw/train-images-idx3-ubyte.gz\n"
          ]
        },
        {
          "output_type": "display_data",
          "data": {
            "text/plain": [
              "  0%|          | 0/9912422 [00:00<?, ?it/s]"
            ],
            "application/vnd.jupyter.widget-view+json": {
              "version_major": 2,
              "version_minor": 0,
              "model_id": "c71a6f01a4f54ad384f8b80c0d3076de"
            }
          },
          "metadata": {}
        },
        {
          "output_type": "stream",
          "name": "stdout",
          "text": [
            "Extracting /tmp/MNIST/raw/train-images-idx3-ubyte.gz to /tmp/MNIST/raw\n",
            "\n",
            "Downloading http://yann.lecun.com/exdb/mnist/train-labels-idx1-ubyte.gz\n",
            "Downloading http://yann.lecun.com/exdb/mnist/train-labels-idx1-ubyte.gz to /tmp/MNIST/raw/train-labels-idx1-ubyte.gz\n"
          ]
        },
        {
          "output_type": "display_data",
          "data": {
            "text/plain": [
              "  0%|          | 0/28881 [00:00<?, ?it/s]"
            ],
            "application/vnd.jupyter.widget-view+json": {
              "version_major": 2,
              "version_minor": 0,
              "model_id": "5bc837ba50ea4be39c38b626027099a3"
            }
          },
          "metadata": {}
        },
        {
          "output_type": "stream",
          "name": "stdout",
          "text": [
            "Extracting /tmp/MNIST/raw/train-labels-idx1-ubyte.gz to /tmp/MNIST/raw\n",
            "\n",
            "Downloading http://yann.lecun.com/exdb/mnist/t10k-images-idx3-ubyte.gz\n",
            "Downloading http://yann.lecun.com/exdb/mnist/t10k-images-idx3-ubyte.gz to /tmp/MNIST/raw/t10k-images-idx3-ubyte.gz\n"
          ]
        },
        {
          "output_type": "display_data",
          "data": {
            "text/plain": [
              "  0%|          | 0/1648877 [00:00<?, ?it/s]"
            ],
            "application/vnd.jupyter.widget-view+json": {
              "version_major": 2,
              "version_minor": 0,
              "model_id": "b87a946a47d54db5a24fd8b4d93b8ec8"
            }
          },
          "metadata": {}
        },
        {
          "output_type": "stream",
          "name": "stdout",
          "text": [
            "Extracting /tmp/MNIST/raw/t10k-images-idx3-ubyte.gz to /tmp/MNIST/raw\n",
            "\n",
            "Downloading http://yann.lecun.com/exdb/mnist/t10k-labels-idx1-ubyte.gz\n",
            "Downloading http://yann.lecun.com/exdb/mnist/t10k-labels-idx1-ubyte.gz to /tmp/MNIST/raw/t10k-labels-idx1-ubyte.gz\n"
          ]
        },
        {
          "output_type": "display_data",
          "data": {
            "text/plain": [
              "  0%|          | 0/4542 [00:00<?, ?it/s]"
            ],
            "application/vnd.jupyter.widget-view+json": {
              "version_major": 2,
              "version_minor": 0,
              "model_id": "d32087ecdd7f4579b6277440c1bb97a4"
            }
          },
          "metadata": {}
        },
        {
          "output_type": "stream",
          "name": "stdout",
          "text": [
            "Extracting /tmp/MNIST/raw/t10k-labels-idx1-ubyte.gz to /tmp/MNIST/raw\n",
            "\n"
          ]
        }
      ]
    },
    {
      "cell_type": "code",
      "source": [
        "import tensorboard\n",
        "import torchvision\n",
        "print(torch.__version__)\n",
        "# print(torchvision.__version__)\n",
        "# print(tensorboard.__version__)"
      ],
      "metadata": {
        "colab": {
          "base_uri": "https://localhost:8080/"
        },
        "id": "PqHCMkOJ74X9",
        "outputId": "df4b66d8-df7b-4daa-becf-b21b9ad1b67d"
      },
      "execution_count": 9,
      "outputs": [
        {
          "output_type": "stream",
          "name": "stdout",
          "text": [
            "1.13.0+cu116\n"
          ]
        }
      ]
    },
    {
      "cell_type": "code",
      "source": [
        "# dimension of images (flattened)\n",
        "HEIGHT,WIDTH = train_set[0][0][0].size()\n",
        "INPUT_DIM = HEIGHT * WIDTH\n",
        "\n",
        "TRAIN_BATCH_SIZE = 32\n",
        "TEST_BATCH_SIZE = 32\n",
        "\n",
        "#On utilise un DataLoader pour faciliter les manipulations, on fixe arbitrairement la taille du mini batch à 32\n",
        "mnist_train_loader = DataLoader(train_set,batch_size=TRAIN_BATCH_SIZE,shuffle=True)\n",
        "mnist_test_loader  = DataLoader(test_set,batch_size=TEST_BATCH_SIZE,shuffle=False)"
      ],
      "metadata": {
        "id": "062XGgF576Cu"
      },
      "execution_count": 11,
      "outputs": []
    },
    {
      "cell_type": "code",
      "source": [
        "print(\"DATA LOADER:\\n\",len(iter(mnist_train_loader)),\"\\n\",next(iter(mnist_train_loader))[0][0].size())\n"
      ],
      "metadata": {
        "colab": {
          "base_uri": "https://localhost:8080/"
        },
        "id": "bwkwY5NM8t_c",
        "outputId": "189245a2-f0c3-426e-bc52-8e36293cf886"
      },
      "execution_count": 12,
      "outputs": [
        {
          "output_type": "stream",
          "name": "stdout",
          "text": [
            "DATA LOADER:\n",
            " 1875 \n",
            " torch.Size([1, 28, 28])\n"
          ]
        }
      ]
    },
    {
      "cell_type": "markdown",
      "source": [
        "On reprend la même boucle d'apprentissage."
      ],
      "metadata": {
        "id": "7Zj1FLJW8xev"
      }
    },
    {
      "cell_type": "code",
      "source": [
        "def accuracy(yhat,y):\n",
        "    # y encode les indexes, s'assurer de la bonne taille de tenseur\n",
        "    assert len(y.shape)==1 or y.size(1)==1\n",
        "    return (torch.argmax(yhat,1).view(y.size(0),-1)== y.view(-1,1)).double().mean()\n",
        "    \n",
        "def train(model,epochs,train_loader,test_loader):\n",
        "    writer = SummaryWriter(f\"{TB_PATH}/{model.name}\")\n",
        "    optim = torch.optim.Adam(model.parameters(),lr=1e-3)    # choix optimizer\n",
        "    model = model.to(device)\n",
        "    print(f\"running {model.name}\")\n",
        "    loss = nn.CrossEntropyLoss()                            # choix loss\n",
        "    for epoch in tqdm(range(epochs)):\n",
        "        cumloss, cumacc, count = 0, 0, 0\n",
        "        model.train()\n",
        "        for x,y in train_loader:                            # boucle sur les batchs\n",
        "            optim.zero_grad()\n",
        "            x,y = x.to(device), y.to(device)                # y doit être un tensor (pas un int)\n",
        "            yhat = model(x)\n",
        "            l = loss(yhat,y)\n",
        "            l.backward()\n",
        "            optim.step()\n",
        "            cumloss += l*len(x)                             # attention, il peut y avoir un batch + petit (le dernier)\n",
        "            cumacc += accuracy(yhat,y)*len(x)\n",
        "            count += len(x)\n",
        "        writer.add_scalar('loss/train',cumloss/count,epoch)\n",
        "        writer.add_scalar('accuracy/train',cumacc/count,epoch)\n",
        "        if epoch % 1 == 0:\n",
        "            model.eval()\n",
        "            with torch.no_grad():\n",
        "                cumloss, cumacc, count = 0, 0, 0\n",
        "                for x,y in test_loader:\n",
        "                    x,y = x.to(device), y.to(device)\n",
        "                    yhat = model(x)\n",
        "                    cumloss += loss(yhat,y)*len(x)\n",
        "                    cumacc += accuracy(yhat,y)*len(x)\n",
        "                    count += len(x)\n",
        "                writer.add_scalar(f'loss/test',cumloss/count,epoch)\n",
        "                writer.add_scalar('accuracy/test',cumacc/count,epoch)"
      ],
      "metadata": {
        "id": "dhiMckpy8zOs"
      },
      "execution_count": 13,
      "outputs": []
    },
    {
      "cell_type": "markdown",
      "source": [
        "### **Réseau de convolution (CNN)**"
      ],
      "metadata": {
        "id": "Kb9OfQef840Q"
      }
    },
    {
      "cell_type": "markdown",
      "source": [
        "Implémentez un réseau avec deux couches initiales de convolution [Conv2d](https://pytorch.org/docs/stable/generated/torch.nn.Conv2d.html#torch.nn.Conv2d), chacune comportant 16 filtres de taille 5x5. Chaque couche est suivie d'une activation ReLU et d'un [max-pooling](https://pytorch.org/docs/stable/generated/torch.nn.MaxPool2d.html#torch.nn.MaxPool2d) de taille 3x3. On gardera un stride de 1 pour les convolutions et le pooling.\n",
        "\n",
        "Quelle est la taille du tenseur de sortie des couches de convolution ? (vous pouvez consulter ce guide sur l'arithmétique des convolutions).\n",
        "\n",
        "A la sortie des couches de convolutions, nous avons besoin d'un classifieur fully-connected. Utilisez deux couches de linéaires avec une activation ReLU.\n",
        "\n",
        "Usuellement, le sous-réseau convolutionnel est stocké dans une variable **self.features** (comme son rôle est d'extraire les features de l'image), et le sous-réseau fully connected dans une variable **self.classifier**. Utilisez cette structure pour la suite afin que votre code soit compatible avec le squelette fourni.\n",
        "\n",
        "Implémentez la méthode **forward()** du réseau. Entraînez votre réseau sur MNIST."
      ],
      "metadata": {
        "id": "lFohX14a8-oZ"
      }
    },
    {
      "cell_type": "code",
      "source": [
        "class ConvNet(nn.Module):\n",
        "    ## [[student]]\n",
        "    def __init__(self,pooling = nn.MaxPool2d): # argument sur le pooling\n",
        "        super().__init__()\n",
        "        # Convolution 5*5, 16 filtres\n",
        "        self.conv1 = nn.Conv2d(in_channels=1, out_channels=16, kernel_size=5)\n",
        "        # Max pooling 3x3\n",
        "        self.pool1 = pooling(kernel_size=3, stride=1)\n",
        "        # Convolution 5*5, 16 filtres\n",
        "        self.conv2 = nn.Conv2d(in_channels=16, out_channels=16, kernel_size=5)\n",
        "        # Max pooling 3x3\n",
        "        self.pool2 = pooling(3, 1)\n",
        "        #initialisation des poids pour éviter des problèmes de gradient\n",
        "        torch.nn.init.xavier_uniform_(self.conv1.weight)\n",
        "        torch.nn.init.xavier_uniform_(self.conv2.weight)\n",
        "\n",
        "        self.lin1 = nn.Linear(16*16*16,120)\n",
        "        self.lin2 = nn.Linear(120, 10)\n",
        "        \n",
        "        self.features   = nn.Sequential(self.conv1,nn.ReLU(),self.pool1,self.conv2,nn.ReLU(),self.pool2)\n",
        "        self.classifier = nn.Sequential(self.lin1,nn.ReLU(),self.lin2)\n",
        "        \n",
        "    def forward(self, x):\n",
        "        x = self.features(x)\n",
        "        x = self.classifier(x.view(x.size(0), -1))\n",
        "        return x\n",
        "convnet=ConvNet().to(device)\n",
        "convnet.name=\"1stConv-\"+time.asctime()\n",
        "convnet_avg = ConvNet(nn.AvgPool2d).to(device)\n",
        "convnet_avg.name=\"1stConv-pool-\"+time.asctime()\n",
        "\n",
        "## [[/student]]"
      ],
      "metadata": {
        "id": "flAg1zhW905W"
      },
      "execution_count": 14,
      "outputs": []
    },
    {
      "cell_type": "code",
      "source": [
        "# 2 lignes de code = appel à la fonction d'entrainement\n",
        "# 35 minutes sur mon portable (GPU désactivé)\n",
        "\n",
        "## [[student]]\n",
        "notebook.display()\n",
        "n_epoch = 20\n",
        "train(convnet,     n_epoch, mnist_train_loader, mnist_test_loader)\n",
        "train(convnet_avg, n_epoch, mnist_train_loader, mnist_test_loader)\n",
        "## [[/student]]"
      ],
      "metadata": {
        "id": "DQRoHHLB-ACI"
      },
      "execution_count": null,
      "outputs": []
    },
    {
      "cell_type": "code",
      "source": [
        "import os\n",
        "\n",
        "def save_model(model,fichier): # pas de sauvegarde de l'optimiseur ici\n",
        "      \"\"\" sauvegarde du modèle dans fichier \"\"\"\n",
        "      state = {'model_state': model.state_dict()}\n",
        "      torch.save(state,fichier) # pas besoin de passer par pickle\n",
        " \n",
        "def load_model(fichier,model):\n",
        "      \"\"\" Si le fichier existe, on charge le modèle  \"\"\"\n",
        "      if os.path.isfile(fichier):\n",
        "          state = torch.load(fichier)\n",
        "          model.load_state_dict(state['model_state'])"
      ],
      "metadata": {
        "id": "jvh7iYYo-LMJ"
      },
      "execution_count": null,
      "outputs": []
    },
    {
      "cell_type": "code",
      "source": [
        "# sauvegarde du réseau (économie de 30 minutes :)\n",
        "# ATTENTION: pour que ça marche, il faut que les réseaux soient structurellement identiques... Il vous faut donc ma correction :)\n",
        "# la classe utilisée est dans model.py dans le répertoire model.\n",
        "\n",
        "path = \"/Users/vguigue/Documents/Cours/deep-nb-bp/sceance-nb/\"\n",
        "\n",
        "# fichier = path+f\"model/{convnet.name}\"\n",
        "# save_model(convnet,fichier)\n",
        "\n",
        "# fichier = path+f\"model/{convnet_avg.name}\"\n",
        "# save_model(convnet_avg,fichier)\n",
        "\n",
        "# vous pouvez utiliser les formules symmétriques pour le chargement\n",
        "\n",
        "convnet = ConvNet().to(device)\n",
        "convnet.name =\"1stConv-trained\"\n",
        "convnet_avg = ConvNet(nn.AvgPool2d).to(device)\n",
        "convnet_avg.name =\"1stConv_avg-trained\"\n",
        "load_model(\"model/1stConv-trained\", convnet)\n",
        "load_model(\"model/1stConv_avg-trained\", convnet_avg)"
      ],
      "metadata": {
        "id": "pWOqyqmh-Nka"
      },
      "execution_count": null,
      "outputs": []
    },
    {
      "cell_type": "markdown",
      "source": [
        "### **Visualisation du CNN**"
      ],
      "metadata": {
        "id": "2CokkCWd-Ojt"
      }
    },
    {
      "cell_type": "markdown",
      "source": [
        "Une première manière d'introspecter un CNN est de visualiser les sorties des différentes couches et les filtres associés. Pour cela, on enregistre la sortie de chaque couche d'intérêt lors de la passe forward. Le code suivant permet d'obtenir cette succession d'images : la première image est l'image originale, chaque colonne correspond à un filtre. Les résultats sont ensuite regroupés par couche de convolution, les trois images dans une même colonne correspondent :1) aux poids de la convolution, 2) la sortie de la couche de convolution, 3) la sortie du pooling.\n",
        "\n",
        "Qu'observez vous ? Comparez les différences entre un réseau utilisant un max-pooling et un réseau utilisant un [average pooling](https://pytorch.org/docs/stable/generated/torch.nn.AvgPool2d.html). Vous pouvez également faire varier la taille et le nombre de filtres"
      ],
      "metadata": {
        "id": "WAWD455h-R6_"
      }
    },
    {
      "cell_type": "code",
      "source": [
        "def analyse_conv(model,img,nb_filtres=16):\n",
        "    x  = img.unsqueeze(0).to(device)\n",
        "    img_conv = []\n",
        "    img_pool = []\n",
        "    # Collecte des données sur les couches en forward = execution pas à pas des couches\n",
        "    for m in model.features._modules.values(): # parcours des modules de features\n",
        "        x = m.forward(x)\n",
        "        if isinstance(m,nn.Conv2d): # pour les modules conv => les poids + la sortie\n",
        "            img_conv.append((x.squeeze(0),m.weight))\n",
        "        if isinstance(m,nn.MaxPool2d) or isinstance(m,nn.AvgPool2d): # pour le pooling, juste la sortie du module (pas de poids)\n",
        "            img_pool.append(x.squeeze(0))\n",
        "    \n",
        "    # Partie d'affichage des données collectées\n",
        "    plt.figure()\n",
        "    plt.imshow(img.permute(1,2,0).to('cpu'),cmap='gray') # input (~transpose en 3D)\n",
        "    # nombre de filtres => affichage des données\n",
        "    ksmax = min(nb_filtres, max([p[0].size(0) for p in img_conv]))\n",
        "    fig, axs = plt.subplots(3*len(img_conv),ksmax,figsize=(20,5))\n",
        "    for i,((img_c,w),img_p) in enumerate(zip(img_conv,img_pool)): # zip = hypothèse 1 conv <=> 1 pool\n",
        "        # affichage Conv+result+pool => Toutes les 3 lignes\n",
        "        for j in range(min(nb_filtres,img_c.size(0))):\n",
        "            axs[3*i,j].imshow(np.array(w[j,0].to('cpu').detach()),cmap=\"gray\") # indice = toutes les 3 lignes\n",
        "            axs[3*i,j].axis('off')\n",
        "            axs[3*i+1,j].imshow(np.array(img_c[j].to('cpu').detach()),cmap=\"gray\")                             \n",
        "            axs[3*i+1,j].axis('off')\n",
        "        for j in range(min(nb_filtres,img_p.size(0))):\n",
        "            axs[3*i+2,j].imshow(np.array(img_p[j].to('cpu').detach()),cmap=\"gray\")\n",
        "            axs[3*i+2,j].axis('off')\n",
        "    plt.show()\n",
        "## [[student]]    \n",
        "analyse_conv(convnet,mnist_train_loader.dataset[0][0]) \n",
        "analyse_conv(convnet_avg,mnist_train_loader.dataset[0][0]) \n",
        "analyse_conv(convnet,mnist_train_loader.dataset[1][0]) \n",
        "analyse_conv(convnet_avg,mnist_train_loader.dataset[1][0])     \n",
        "## [[/student]]"
      ],
      "metadata": {
        "id": "G1RXHr2r-Z64"
      },
      "execution_count": null,
      "outputs": []
    },
    {
      "cell_type": "markdown",
      "source": [
        "### **Saliency MAP**"
      ],
      "metadata": {
        "id": "o4nouuCg-biK"
      }
    },
    {
      "cell_type": "markdown",
      "source": [
        "La visualisation des filtres ne permet pas bien de comprendre le rôle de chaque filtre dans la classification. Ils permettent d'extraire des features élémentaires qui combinées ensemble font sens pour un réseau fully-connected mais dont l'interprétation n'est pas évidente pour l'oeil humain.\n",
        "\n",
        "Une première méthode pour détecter quelles zones de l'image ont le plus impacté la décision sont les cartes de saillance. L'objectif des Saliency Maps est de détecter les pixels d'entrée qui ont le plus impacté la décision. L'idée est d'utiliser le gradient par rapport à l'image pour ranker les pixels. En effet, un gradient fort pour un pixel d'entrée indique qu'il faut changer faiblement sa valeur pour que la classe infére change (et a contrario, un gradient nul indique que le pixel n'est pas pris en compte pour la classification selon cette classe). Les étapes à suivre sont les suivantes :\n",
        "\n",
        "- le flag requires_grad est mis à True pour l'image (pour pouvoir calculer la rétro-propagation)\n",
        "- une passe forward est faite sur l'image\n",
        "- le backward est calculé sur le score de sortie de la classe d'intérêt\n",
        "- On affiche la valeur absolue du gradient par rapport à l'entrée obtenu. Si l'image à plusieurs canaux, on prend le max de chacun de ces canaux."
      ],
      "metadata": {
        "id": "1-Gm6KM--nBo"
      }
    },
    {
      "cell_type": "code",
      "source": [
        "def getSaliency(model,img,label):\n",
        "    model.zero_grad()\n",
        "    img = img.to(device)\n",
        "    img.requires_grad = True    # ajout du gradient sur l'image elle-même\n",
        "                                # idée: + gd gradient = + fort impact sur la décision\n",
        "    img.grad = None\n",
        "    outputs = nn.Softmax(dim=1)(model(img.unsqueeze(0)))    # ATTENTION, le softmax est dans la loss, pas dans le réseau \n",
        "                                                            # => il faut le remettre à la main pour que ça marche\n",
        "    output=outputs[0,label]     # focalisation sur la vérité terrain\n",
        "    output.backward()           # calcul des gradients associés à cette classe seulement\n",
        "    sal=img.grad.abs()          # récupération du gradient sur l'image (+abs)\n",
        "    if sal.dim()>2:\n",
        "        sal=torch.max(sal,dim=0)[0]\n",
        "    fig=plt.figure(figsize=(8, 8))\n",
        "    fig.add_subplot(1, 2, 1)\n",
        "    plt.imshow(img.detach().cpu().permute(1,2,0),cmap=\"gray\")\n",
        "    fig.add_subplot(1, 2, 2)\n",
        "    plt.imshow(sal.to('cpu'),cmap=\"seismic\",interpolation=\"bilinear\")\n",
        "    return sal"
      ],
      "metadata": {
        "id": "73-yM2vd-7Bw"
      },
      "execution_count": null,
      "outputs": []
    },
    {
      "cell_type": "code",
      "source": [
        "for i in range(10):\n",
        "    x,y = mnist_train_loader.dataset[i]\n",
        "    getSaliency(convnet,x,y)"
      ],
      "metadata": {
        "id": "pAfFnXXX-8qA"
      },
      "execution_count": null,
      "outputs": []
    },
    {
      "cell_type": "markdown",
      "source": [
        "### Class Activation Maps (CAM)"
      ],
      "metadata": {
        "id": "QLi-kVaU--Sh"
      }
    },
    {
      "cell_type": "markdown",
      "source": [
        "Une autre technique d'introspection est le Class Activation Maps. Cette technique permet de visualiser quels sont les régions qui ont fait le plus réagir les différents filtres qui ont servis à la classification. Elle part de la constatation que la sortie d'un filtre de la dernière couche convolutionnelle indique spatialement quelles sont les régions de l'image qui ont fait réagir le filtre (la sortie est généralement de taille plus petite - downscalé - mais on peut la mettre à l'échelle). Cependant, il est difficile d'analyser avec la succession des couches non-linéaires en aval le rôle de chaque sortie convolutionnelle dans le processus de classification. Cependant, un réseau plus simple - uniquement linéaire par exemple - permettrait de donner une indication à l'importance de chaque filtre (au prix d'une erreur plus grosse en classification). Cette technique nécessite donc la modification des dernières couches du réseau de la manière suivante :\n",
        "- un pooling de moyennage globale (un average pooling de la taille de l'image) est appliquée à chaque filtre de convolution de la dernière couche convolutionnelle : seul le signal moyen de chaque filtre est retenu, sans plus aucune information spatiale.\n",
        "- un réseau linéaire est ensuite utilisé du nombre de filtres vers le nombre de classes qui va permettre de mettre en évidence l'intérêt de chaque filtre dans la classification.\n",
        "\n",
        "Le réseau ainsi modifié est fine-tuné sur le corpus. L'Activation Map est obtenu en sommant les sorties de la dernière couche convolutionnelle pondérées par les poids du réseau linéaire.\n",
        "\n",
        "Le code ci-dessous permet d'obtenir une telle carte pour une image et un modèle donné.\n",
        "\n",
        "Modifiez tout d'abord votre réseau en remplaçant le classifieur par un average pooling global puis un linéaire. Ré-entraînez ensuite les couches modifiées - sans toucher aux poids de l'extraction de features. Visualisez les cartes sur des exemples."
      ],
      "metadata": {
        "id": "k2HW16G3_AuF"
      }
    },
    {
      "cell_type": "code",
      "source": [
        "## Permet de mettre à  True/False tous les requires_grad des paramètres du réseau\n",
        "def set_parameter_requires_grad(model,b):\n",
        "    for p in model.parameters():\n",
        "        p.requires_grad = b\n",
        "def generate_cam(model,input_image,target_class=None):\n",
        "    ## Calcul du forward sur l'image\n",
        "    with torch.no_grad():\n",
        "        input_image=input_image.to(device)\n",
        "        x = model.features(input_image) # extraction features seules (idem premier réseau)\n",
        "        out=model(input_image)          # sortie = tout le réseau (nouvelle couche de décision)\n",
        "        out=torch.nn.functional.softmax(out,-1)\n",
        "    if target_class is None:\n",
        "        target_class = torch.max(out,dim=-1)[1].item()\n",
        "    print(\"target_class\",target_class)\n",
        "    ## Récupération des poids du linéaire\n",
        "    weights = list(model.classifier._modules.values())[-1].weight.data  # dernière couche\n",
        "    fig = plt.figure(figsize=(16, 8))\n",
        "    fig.add_subplot(1,2, 1)\n",
        "    img=input_image.to(\"cpu\") ##*torch.tensor(std).view(3,1,1)+torch.tensor(mean).view(3,1,1)\n",
        "    #img=torch.nn.functional.interpolate(img, size=(244, 244), mode=\"bilinear\", align_corners=False)\n",
        "    plt.imshow(img.cpu().squeeze(0).permute(1,2,0))\n",
        "    ## Calcul de CAM\n",
        "    y=x*weights[target_class].view(1,-1,1,1)\n",
        "    y=(y.sum(1))  \n",
        "    fig.add_subplot(1, 2, 2)\n",
        "    #y=torch.nn.functional.interpolate(y.unsqueeze(0),size=(244,244),mode=\"bilinear\",align_corners=False)\n",
        "    plt.imshow(y.cpu().squeeze(),cmap=\"bwr\",vmax=4,vmin=-4)\n",
        "    plt.show()"
      ],
      "metadata": {
        "id": "gw90NBAA_JJe"
      },
      "execution_count": null,
      "outputs": []
    },
    {
      "cell_type": "code",
      "source": [
        "# Modifiez votre réseau ici et ré-entrainez le\n",
        "## [[student]]\n",
        "set_parameter_requires_grad(convnet,False) # on repart de convnet\n",
        "convnet.classifier = nn.Sequential(torch.nn.Unflatten(1,(16,16,16)),torch.nn.AvgPool2d(16,1),torch.nn.Flatten(1),torch.nn.Linear(16,10)) # modification de la couche de classif\n",
        "# remise en forme des filtres + moyennage + remise à plat + décision\n",
        "train(convnet,10,mnist_train_loader,mnist_test_loader)\n",
        "## [[/student]]"
      ],
      "metadata": {
        "id": "I3AcoOyi_J6d"
      },
      "execution_count": null,
      "outputs": []
    },
    {
      "cell_type": "code",
      "source": [
        "mnist_batch, mnist_class = next(iter(mnist_train_loader))\n",
        "mnist_features = convnet.features.forward(mnist_batch)"
      ],
      "metadata": {
        "id": "TWacORlJ_Lfo"
      },
      "execution_count": null,
      "outputs": []
    },
    {
      "cell_type": "code",
      "source": [
        "mnist_batch, mnist_class = next(iter(mnist_train_loader))\n",
        "mnist_features = convnet.features.forward(mnist_batch)\n",
        "for i in range(10):\n",
        "    generate_cam(convnet,mnist_batch[i].unsqueeze(0),mnist_class[i])"
      ],
      "metadata": {
        "id": "xfkvPrQT_NC7"
      },
      "execution_count": null,
      "outputs": []
    }
  ]
}